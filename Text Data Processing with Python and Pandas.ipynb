{
 "cells": [
  {
   "cell_type": "code",
   "execution_count": 125,
   "metadata": {},
   "outputs": [],
   "source": [
    "import pandas as pd\n",
    "import numpy as np \n",
    "import nltk\n",
    "import matplotlib.pyplot as plt\n",
    "import operator \n",
    "from nltk.stem import PorterStemmer\n",
    "from nltk.tokenize import word_tokenize"
   ]
  },
  {
   "cell_type": "markdown",
   "metadata": {},
   "source": [
    "## Processing Text Data With Native Python Functionality"
   ]
  },
  {
   "cell_type": "code",
   "execution_count": 142,
   "metadata": {},
   "outputs": [],
   "source": [
    "filename = open(\"Sample LCAP Dataset.tsv\", \"r\")\n",
    "\n",
    "# defining a set of dictionary data structures for general use below\n",
    "districts = {} # (1) will contain {district: county, SupCon, MPP, SupCon Text, MPP Text}\n",
    "text = {} # (2) will contain {district: county, SupCon Text, MPP Text}\n",
    "supcon_freq = {} # (3) will contain the count of distinct (non-stemmed) words in SupCon Text\n",
    "mpp_freq = {} # (4) will contain the count of distinct (non-stemmed) words in MPP Text\n",
    "\n",
    "# Iterating through input file and splitting data into rows (districts)\n",
    "for row in filename:\n",
    "    row = row.strip(\"\\n\")\n",
    "    item = row.split(\"\\t\") # the dataset contains commas, so splitting commas would disorganize \n",
    "\n",
    "    districts[item[1]] = [item[0]] + item[2:6] # (1) \n",
    "\n",
    "    text[item[1]] = [item[0]] + item[4:6] # (2) \n",
    "\n",
    "\n",
    "for i in districts.values(): \n",
    "    i[1] = i[1].lstrip(\"$\") # in order for formatting changes to occur, values must be redefined\n",
    "    i[2] = i[2].rstrip(\"%\")\n",
    "\n",
    "for j in text.values():\n",
    "    j[1] = j[1].lower().split(\" \")\n",
    "    j[2] = j[2].lower().split(\" \")\n",
    "\n",
    "    for k in j[1]: \n",
    "        supcon_freq[k] = supcon_freq.get(k, 0) + 1 # (3) SupCon Text Word Frequency\n",
    "\n",
    "    for l in j[2]:\n",
    "        mpp_freq[l] = mpp_freq.get(l, 0) + 1 # (4) MPP Text Word Frequency\n",
    "\n"
   ]
  },
  {
   "cell_type": "markdown",
   "metadata": {},
   "source": [
    "## Word Stemming with Porter Stemmer in the Natural Language Took Kit (appears to be same stemming method as in R)"
   ]
  },
  {
   "cell_type": "markdown",
   "metadata": {},
   "source": [
    "### Unsuccessful attempt "
   ]
  },
  {
   "cell_type": "code",
   "execution_count": 144,
   "metadata": {},
   "outputs": [],
   "source": [
    "ps = PorterStemmer()\n",
    "\n",
    "for i in text.values(): \n",
    "    for j in i[1]:\n",
    "        j = ps.stem(j)\n",
    "    \n",
    "    for k in i[2]:\n",
    "        k = ps.stem(k)"
   ]
  },
  {
   "cell_type": "markdown",
   "metadata": {},
   "source": [
    "## Simple Word Frequency Visualization"
   ]
  },
  {
   "cell_type": "code",
   "execution_count": 116,
   "metadata": {
    "scrolled": false
   },
   "outputs": [
    {
     "data": {
      "image/png": "[encoded data removed]",
      "text/plain": [
       "<Figure size 432x288 with 1 Axes>"
      ]
     },
     "metadata": {
      "needs_background": "light"
     },
     "output_type": "display_data"
    }
   ],
   "source": [
    "plt.bar(list(supcon_freq.keys()), supcon_freq.values(), color='g')\n",
    "plt.show()"
   ]
  },
  {
   "cell_type": "markdown",
   "metadata": {},
   "source": [
    "## ...a bit much. Let's simplify: "
   ]
  },
  {
   "cell_type": "code",
   "execution_count": 120,
   "metadata": {
    "scrolled": true
   },
   "outputs": [
    {
     "data": {
      "image/png": "[encoded data removed]",
      "text/plain": [
       "<Figure size 432x288 with 1 Axes>"
      ]
     },
     "metadata": {
      "needs_background": "light"
     },
     "output_type": "display_data"
    }
   ],
   "source": [
    "sorted_supcon_freq = dict(sorted(supcon_freq.items(), key=operator.itemgetter(1), reverse=True)[:10])\n",
    "\n",
    "plt.bar(list(sorted_supcon_freq.keys()), sorted_supcon_freq.values(), color='g')\n",
    "plt.show()"
   ]
  },
  {
   "cell_type": "markdown",
   "metadata": {},
   "source": [
    "## Processing Text Data with Pandas Functionality"
   ]
  },
  {
   "cell_type": "code",
   "execution_count": 119,
   "metadata": {
    "scrolled": false
   },
   "outputs": [
    {
     "data": {
      "text/html": [
       "<div>\n",
       "<style scoped>\n",
       "    .dataframe tbody tr th:only-of-type {\n",
       "        vertical-align: middle;\n",
       "    }\n",
       "\n",
       "    .dataframe tbody tr th {\n",
       "        vertical-align: top;\n",
       "    }\n",
       "\n",
       "    .dataframe thead th {\n",
       "        text-align: right;\n",
       "    }\n",
       "</style>\n",
       "<table border=\"1\" class=\"dataframe\">\n",
       "  <thead>\n",
       "    <tr style=\"text-align: right;\">\n",
       "      <th></th>\n",
       "      <th>County</th>\n",
       "      <th>District</th>\n",
       "      <th>SupCon</th>\n",
       "      <th>MPP</th>\n",
       "      <th>SupCon_Text</th>\n",
       "      <th>MPP_Text</th>\n",
       "    </tr>\n",
       "  </thead>\n",
       "  <tbody>\n",
       "    <tr>\n",
       "      <th>0</th>\n",
       "      <td>Ventura</td>\n",
       "      <td>BriggsElementary</td>\n",
       "      <td>$442,977</td>\n",
       "      <td>12.41%</td>\n",
       "      <td>briggs elementary school district has over 80...</td>\n",
       "      <td>by increasing time for certificated and quali...</td>\n",
       "    </tr>\n",
       "    <tr>\n",
       "      <th>1</th>\n",
       "      <td>Ventura</td>\n",
       "      <td>ConejoValleyUnified</td>\n",
       "      <td>$3,713,151</td>\n",
       "      <td>2.82%</td>\n",
       "      <td>in 2014-15, supplemental grant funding is $3,...</td>\n",
       "      <td>the minimum proportionality percentage (mpp) ...</td>\n",
       "    </tr>\n",
       "    <tr>\n",
       "      <th>2</th>\n",
       "      <td>Ventura</td>\n",
       "      <td>FillmoreUnified</td>\n",
       "      <td>$2,100,000</td>\n",
       "      <td>11%</td>\n",
       "      <td>for the 2014-15 school year, fillmore unified...</td>\n",
       "      <td>for the 2014-15 schoolyear, an 11% increase i...</td>\n",
       "    </tr>\n",
       "    <tr>\n",
       "      <th>3</th>\n",
       "      <td>Ventura</td>\n",
       "      <td>HuenemeElementary</td>\n",
       "      <td>$7,200,000</td>\n",
       "      <td>13.66%</td>\n",
       "      <td>the majority of students attending schools in...</td>\n",
       "      <td>in meeting the minimum proportionality percen...</td>\n",
       "    </tr>\n",
       "    <tr>\n",
       "      <th>4</th>\n",
       "      <td>Ventura</td>\n",
       "      <td>MesaUnionElementary</td>\n",
       "      <td>$145,503</td>\n",
       "      <td>3.69%</td>\n",
       "      <td>supplemental grant funds in 2014-2015 will to...</td>\n",
       "      <td>the mesa union school district local control ...</td>\n",
       "    </tr>\n",
       "    <tr>\n",
       "      <th>5</th>\n",
       "      <td>Ventura</td>\n",
       "      <td>MoorparkUnified</td>\n",
       "      <td>$1,500,000</td>\n",
       "      <td>3.56%</td>\n",
       "      <td>moorpark unified school district will receive...</td>\n",
       "      <td>moorpark unified school district - proportion...</td>\n",
       "    </tr>\n",
       "    <tr>\n",
       "      <th>6</th>\n",
       "      <td>Ventura</td>\n",
       "      <td>MupuElementary</td>\n",
       "      <td>$53,086</td>\n",
       "      <td>4.97%</td>\n",
       "      <td>mupu elementary has over 55% unduplicated pup...</td>\n",
       "      <td>by increasing time for certificated and quali...</td>\n",
       "    </tr>\n",
       "    <tr>\n",
       "      <th>7</th>\n",
       "      <td>Ventura</td>\n",
       "      <td>OakParkUnified</td>\n",
       "      <td>$312,956</td>\n",
       "      <td>1%</td>\n",
       "      <td>oak park usd has less than 9% unduplicated st...</td>\n",
       "      <td>the minimum proportionality percentage for oa...</td>\n",
       "    </tr>\n",
       "    <tr>\n",
       "      <th>8</th>\n",
       "      <td>Ventura</td>\n",
       "      <td>OceanView</td>\n",
       "      <td>$1,300,000</td>\n",
       "      <td>16%</td>\n",
       "      <td>calculated on the basis of the number and con...</td>\n",
       "      <td>calculated on the basis of the number and conc...</td>\n",
       "    </tr>\n",
       "    <tr>\n",
       "      <th>9</th>\n",
       "      <td>Ventura</td>\n",
       "      <td>OjaiUnified</td>\n",
       "      <td>$592,493</td>\n",
       "      <td>3.44%</td>\n",
       "      <td>the district received $592,493 of increased l...</td>\n",
       "      <td>ojai unified school district's percentage by ...</td>\n",
       "    </tr>\n",
       "    <tr>\n",
       "      <th>10</th>\n",
       "      <td>Ventura</td>\n",
       "      <td>Oxnard</td>\n",
       "      <td>$12,213,105</td>\n",
       "      <td>10.94%</td>\n",
       "      <td>oxnard school district is receiving a project...</td>\n",
       "      <td>oxnard school districts projected minimum pro...</td>\n",
       "    </tr>\n",
       "    <tr>\n",
       "      <th>11</th>\n",
       "      <td>Ventura</td>\n",
       "      <td>PleasantValley</td>\n",
       "      <td>$717,000</td>\n",
       "      <td>3%</td>\n",
       "      <td>goal #1, #2, #3 -we anticipate receiving appr...</td>\n",
       "      <td>supplemental funds spent on low income, foste...</td>\n",
       "    </tr>\n",
       "    <tr>\n",
       "      <th>12</th>\n",
       "      <td>Ventura</td>\n",
       "      <td>RioElementary</td>\n",
       "      <td>$4,300,000</td>\n",
       "      <td>14%</td>\n",
       "      <td>rio school district's increase in funds in th...</td>\n",
       "      <td>the services provided in the lcap year provid...</td>\n",
       "    </tr>\n",
       "    <tr>\n",
       "      <th>13</th>\n",
       "      <td>Ventura</td>\n",
       "      <td>SantaClaraElementary</td>\n",
       "      <td>$17,027</td>\n",
       "      <td>4.20%</td>\n",
       "      <td>santa clara has 10% unduplicated pupils in th...</td>\n",
       "      <td>students in the subgroups will increase acade...</td>\n",
       "    </tr>\n",
       "    <tr>\n",
       "      <th>14</th>\n",
       "      <td>Ventura</td>\n",
       "      <td>SantaPaulaUnified</td>\n",
       "      <td>$4,800,000</td>\n",
       "      <td>13.07%</td>\n",
       "      <td>for the 2014-2015 school year, the santa paul...</td>\n",
       "      <td>in meeting the minimum proportionality percen...</td>\n",
       "    </tr>\n",
       "    <tr>\n",
       "      <th>15</th>\n",
       "      <td>Ventura</td>\n",
       "      <td>SimiValleyUnified</td>\n",
       "      <td>$3,668,448</td>\n",
       "      <td>3%</td>\n",
       "      <td>simi valley unified school district has 5947 ...</td>\n",
       "      <td>the percent by which the services will be imp...</td>\n",
       "    </tr>\n",
       "    <tr>\n",
       "      <th>16</th>\n",
       "      <td>Ventura</td>\n",
       "      <td>SomisUnion</td>\n",
       "      <td>$122,000</td>\n",
       "      <td>7.65%</td>\n",
       "      <td>somis elementary has over 68% unduplicated pu...</td>\n",
       "      <td>by increasing time for certificated and quali...</td>\n",
       "    </tr>\n",
       "    <tr>\n",
       "      <th>17</th>\n",
       "      <td>Ventura</td>\n",
       "      <td>VenturaUnified</td>\n",
       "      <td>$5,200,000</td>\n",
       "      <td>4.75%</td>\n",
       "      <td>ventura unified school district did not meet ...</td>\n",
       "      <td>our minimum proportionality percentage is 4.7...</td>\n",
       "    </tr>\n",
       "    <tr>\n",
       "      <th>18</th>\n",
       "      <td>Yolo</td>\n",
       "      <td>DavisJointUnified</td>\n",
       "      <td>$2,303,304</td>\n",
       "      <td>4.61%</td>\n",
       "      <td>the davis joint unified school district estim...</td>\n",
       "      <td>in 2014-15 the percentage by which services f...</td>\n",
       "    </tr>\n",
       "    <tr>\n",
       "      <th>19</th>\n",
       "      <td>Yolo</td>\n",
       "      <td>EspartoUnified</td>\n",
       "      <td>$978,245</td>\n",
       "      <td>16.35%</td>\n",
       "      <td>the esparto unified school district estimates...</td>\n",
       "      <td>the percentage by which services for unduplic...</td>\n",
       "    </tr>\n",
       "    <tr>\n",
       "      <th>20</th>\n",
       "      <td>Yolo</td>\n",
       "      <td>WashingtonUnified</td>\n",
       "      <td>$4,400,812</td>\n",
       "      <td>9.06%</td>\n",
       "      <td>the washington unified school district uses t...</td>\n",
       "      <td>the washington unified school district's esti...</td>\n",
       "    </tr>\n",
       "    <tr>\n",
       "      <th>21</th>\n",
       "      <td>Yolo</td>\n",
       "      <td>WintersJointUnified</td>\n",
       "      <td>$1,096,445</td>\n",
       "      <td>11.07%</td>\n",
       "      <td>for the 2014-2015 lcap year, winters joint un...</td>\n",
       "      <td>our minimal proportionality percentage (mpp) ...</td>\n",
       "    </tr>\n",
       "  </tbody>\n",
       "</table>\n",
       "</div>"
      ],
      "text/plain": [
       "     County              District       SupCon     MPP  \\\n",
       "0   Ventura      BriggsElementary     $442,977  12.41%   \n",
       "1   Ventura   ConejoValleyUnified   $3,713,151   2.82%   \n",
       "2   Ventura       FillmoreUnified   $2,100,000     11%   \n",
       "3   Ventura     HuenemeElementary   $7,200,000  13.66%   \n",
       "4   Ventura   MesaUnionElementary     $145,503   3.69%   \n",
       "5   Ventura       MoorparkUnified   $1,500,000   3.56%   \n",
       "6   Ventura        MupuElementary      $53,086   4.97%   \n",
       "7   Ventura        OakParkUnified     $312,956      1%   \n",
       "8   Ventura             OceanView   $1,300,000     16%   \n",
       "9   Ventura           OjaiUnified     $592,493   3.44%   \n",
       "10  Ventura                Oxnard  $12,213,105  10.94%   \n",
       "11  Ventura        PleasantValley     $717,000      3%   \n",
       "12  Ventura         RioElementary   $4,300,000     14%   \n",
       "13  Ventura  SantaClaraElementary      $17,027   4.20%   \n",
       "14  Ventura     SantaPaulaUnified   $4,800,000  13.07%   \n",
       "15  Ventura     SimiValleyUnified   $3,668,448      3%   \n",
       "16  Ventura            SomisUnion     $122,000   7.65%   \n",
       "17  Ventura        VenturaUnified   $5,200,000   4.75%   \n",
       "18     Yolo     DavisJointUnified   $2,303,304   4.61%   \n",
       "19     Yolo        EspartoUnified     $978,245  16.35%   \n",
       "20     Yolo     WashingtonUnified   $4,400,812   9.06%   \n",
       "21     Yolo   WintersJointUnified   $1,096,445  11.07%   \n",
       "\n",
       "                                          SupCon_Text  \\\n",
       "0    briggs elementary school district has over 80...   \n",
       "1    in 2014-15, supplemental grant funding is $3,...   \n",
       "2    for the 2014-15 school year, fillmore unified...   \n",
       "3    the majority of students attending schools in...   \n",
       "4    supplemental grant funds in 2014-2015 will to...   \n",
       "5    moorpark unified school district will receive...   \n",
       "6    mupu elementary has over 55% unduplicated pup...   \n",
       "7    oak park usd has less than 9% unduplicated st...   \n",
       "8    calculated on the basis of the number and con...   \n",
       "9    the district received $592,493 of increased l...   \n",
       "10   oxnard school district is receiving a project...   \n",
       "11   goal #1, #2, #3 -we anticipate receiving appr...   \n",
       "12   rio school district's increase in funds in th...   \n",
       "13   santa clara has 10% unduplicated pupils in th...   \n",
       "14   for the 2014-2015 school year, the santa paul...   \n",
       "15   simi valley unified school district has 5947 ...   \n",
       "16   somis elementary has over 68% unduplicated pu...   \n",
       "17   ventura unified school district did not meet ...   \n",
       "18   the davis joint unified school district estim...   \n",
       "19   the esparto unified school district estimates...   \n",
       "20   the washington unified school district uses t...   \n",
       "21   for the 2014-2015 lcap year, winters joint un...   \n",
       "\n",
       "                                             MPP_Text  \n",
       "0    by increasing time for certificated and quali...  \n",
       "1    the minimum proportionality percentage (mpp) ...  \n",
       "2    for the 2014-15 schoolyear, an 11% increase i...  \n",
       "3    in meeting the minimum proportionality percen...  \n",
       "4    the mesa union school district local control ...  \n",
       "5    moorpark unified school district - proportion...  \n",
       "6    by increasing time for certificated and quali...  \n",
       "7    the minimum proportionality percentage for oa...  \n",
       "8   calculated on the basis of the number and conc...  \n",
       "9    ojai unified school district's percentage by ...  \n",
       "10   oxnard school districts projected minimum pro...  \n",
       "11   supplemental funds spent on low income, foste...  \n",
       "12   the services provided in the lcap year provid...  \n",
       "13   students in the subgroups will increase acade...  \n",
       "14   in meeting the minimum proportionality percen...  \n",
       "15   the percent by which the services will be imp...  \n",
       "16   by increasing time for certificated and quali...  \n",
       "17   our minimum proportionality percentage is 4.7...  \n",
       "18   in 2014-15 the percentage by which services f...  \n",
       "19   the percentage by which services for unduplic...  \n",
       "20   the washington unified school district's esti...  \n",
       "21   our minimal proportionality percentage (mpp) ...  "
      ]
     },
     "execution_count": 119,
     "metadata": {},
     "output_type": "execute_result"
    }
   ],
   "source": [
    "# pd.read_csv takes a input a .csv file in same file directory as the code file is\n",
    "df = pd.read_csv(\"Sample LCAP Dataset.csv\")\n",
    "\n",
    "# the lambda applies a lower case function onto the \"SupCon_Text\" column (the same can be done with the MPP Text)\\\n",
    "df[\"SupCon_Text\"] = df[\"SupCon_Text\"].apply(lambda x: x.lower())\n",
    "df[\"MPP_Text\"] = df[\"MPP_Text\"].apply(lambda x: x.lower())\n",
    "\n",
    "# This produces a word frequency dictionary  \n",
    "supcon_dict = dict(df[\"SupCon_Text\"].str.split(expand=True).stack().value_counts())\n",
    "\n",
    "# df produces a visual of the spreadsheet (df means DataFrame but is arbitrary)\n",
    "df"
   ]
  },
  {
   "cell_type": "markdown",
   "metadata": {},
   "source": [
    "## Similar Word Stemming"
   ]
  },
  {
   "cell_type": "markdown",
   "metadata": {},
   "source": [
    "### Unsuccessful attempt"
   ]
  },
  {
   "cell_type": "code",
   "execution_count": 151,
   "metadata": {},
   "outputs": [],
   "source": [
    "ps = PorterStemmer()\n",
    "\n",
    "df[\"SupCon_Text\"] = df[\"SupCon_Text\"].apply(lambda x: ps.stem(x))\n"
   ]
  },
  {
   "cell_type": "markdown",
   "metadata": {},
   "source": [
    "## Similar visualization"
   ]
  },
  {
   "cell_type": "code",
   "execution_count": 118,
   "metadata": {
    "scrolled": false
   },
   "outputs": [
    {
     "data": {
      "image/png": "[encoded data removed]",
      "text/plain": [
       "<Figure size 432x288 with 1 Axes>"
      ]
     },
     "metadata": {
      "needs_background": "light"
     },
     "output_type": "display_data"
    }
   ],
   "source": [
    "plt.bar(list(supcon_dict.keys()), supcon_dict.values(), color='g')\n",
    "plt.show()"
   ]
  },
  {
   "cell_type": "markdown",
   "metadata": {},
   "source": [
    "## Ordered, but not a whole lot better. Let's simplify again:"
   ]
  },
  {
   "cell_type": "code",
   "execution_count": 121,
   "metadata": {
    "scrolled": true
   },
   "outputs": [
    {
     "data": {
      "image/png": "[encoded data removed]",
      "text/plain": [
       "<Figure size 432x288 with 1 Axes>"
      ]
     },
     "metadata": {
      "needs_background": "light"
     },
     "output_type": "display_data"
    }
   ],
   "source": [
    "sorted_supcon_dict = dict(sorted(supcon_dict.items(), key=operator.itemgetter(1), reverse=True)[:10])\n",
    "\n",
    "plt.bar(list(sorted_supcon_dict.keys()), sorted_supcon_dict.values(), color='g')\n",
    "plt.show()"
   ]
  }
 ],
 "metadata": {
  "kernelspec": {
   "display_name": "Python 3",
   "language": "python",
   "name": "python3"
  },
  "language_info": {
   "codemirror_mode": {
    "name": "ipython",
    "version": 3
   },
   "file_extension": ".py",
   "mimetype": "text/x-python",
   "name": "python",
   "nbconvert_exporter": "python",
   "pygments_lexer": "ipython3",
   "version": "3.8.3"
  }
 },
 "nbformat": 4,
 "nbformat_minor": 4
}
