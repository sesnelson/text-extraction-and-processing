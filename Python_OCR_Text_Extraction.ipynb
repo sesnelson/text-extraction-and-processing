{
  "nbformat": 4,
  "nbformat_minor": 0,
  "metadata": {
    "colab": {
      "name": "Python OCR Text Extraction.ipynb",
      "provenance": [],
      "collapsed_sections": [],
      "authorship_tag": "ABX9TyPqgvi3U6taO3sJsqddLd88",
      "include_colab_link": true
    },
    "kernelspec": {
      "name": "python3",
      "display_name": "Python 3"
    },
    "language_info": {
      "name": "python"
    }
  },
  "cells": [
    {
      "cell_type": "markdown",
      "metadata": {
        "id": "view-in-github",
        "colab_type": "text"
      },
      "source": [
        "<a href=\"https://colab.research.google.com/github/sesnelson/text-extraction-python-ocr/blob/main/Python_OCR_Text_Extraction.ipynb\" target=\"_parent\"><img src=\"https://colab.research.google.com/assets/colab-badge.svg\" alt=\"Open In Colab\"/></a>"
      ]
    },
    {
      "cell_type": "code",
      "metadata": {
        "colab": {
          "base_uri": "https://localhost:8080/"
        },
        "id": "w8C9KPeoBURq",
        "outputId": "e8c6504b-4660-4766-c65b-e085e40110aa"
      },
      "source": [
        "# This need only be run once at the beginning of a session",
        "\n",
        "!pip install pytesseract\n",
        "!pip install pdf2image\n",
        "!apt-get install poppler-utils\n",
        "!sudo apt install tesseract-ocr ;\n",
        "\n",
        "import cv2\n",
        "from PIL import Image\n",
        "import argparse\n",
        "import pytesseract\n",
        "import os"
      ],
      "execution_count": 4,
      "outputs": [
        {
          "output_type": "stream",
          "text": [
            "Requirement already satisfied: pytesseract in /usr/local/lib/python3.7/dist-packages (0.3.7)\n",
            "Requirement already satisfied: Pillow in /usr/local/lib/python3.7/dist-packages (from pytesseract) (7.1.2)\n",
            "Requirement already satisfied: pdf2image in /usr/local/lib/python3.7/dist-packages (1.15.1)\n",
            "Requirement already satisfied: pillow in /usr/local/lib/python3.7/dist-packages (from pdf2image) (7.1.2)\n",
            "Reading package lists... Done\n",
            "Building dependency tree       \n",
            "Reading state information... Done\n",
            "poppler-utils is already the newest version (0.62.0-2ubuntu2.12).\n",
            "The following package was automatically installed and is no longer required:\n",
            "  libnvidia-common-460\n",
            "Use 'apt autoremove' to remove it.\n",
            "0 upgraded, 0 newly installed, 0 to remove and 34 not upgraded.\n",
            "Reading package lists... Done\n",
            "Building dependency tree       \n",
            "Reading state information... Done\n",
            "tesseract-ocr is already the newest version (4.00~git2288-10f4998a-2).\n",
            "The following package was automatically installed and is no longer required:\n",
            "  libnvidia-common-460\n",
            "Use 'sudo apt autoremove' to remove it.\n",
            "0 upgraded, 0 newly installed, 0 to remove and 34 not upgraded.\n"
          ],
          "name": "stdout"
        }
      ]
    },
    {
      "cell_type": "code",
      "metadata": {
        "colab": {
          "base_uri": "https://localhost:8080/"
        },
        "id": "DMkXqVxIDlQk",
        "outputId": "93d9293c-e544-4dee-a9e6-08fb794f50c0"
      },
      "source": [
        "FILENAME = ''\n",
        "import os\n",
        "for file in os.listdir(\"/content\"):\n",
        "  if file.endswith(\".pdf\"):\n",
        "    FILENAME += file\n",
        "\n",
        "# Drag file from file manager into files section (to the left of this kernel)\n",
        "  # Click 3 dots on uploaded file and \"Copy Path\" and paste in prompt\n",
        "URI = input(\"URI Pathway: \")\n",
        "\n",
        "  ## Remember: Files are deleted from Google CoLab's Storage upon use. If you need to \n",
        "  ## make multiple text extraction attempt, you have to re-upload the file each time\n",
        "\n",
        "# Input page range for text extraction. If a single page range, input the same page for both.\n",
        "FIRST_PAGE = int(input(\"First Page: \"))\n",
        "LAST_PAGE = int(input(\"Last Page: \"))\n",
        "\n",
        "# If page orientation is portrait, input 180 - otherwise, input 0 degrees of rotation\n",
        "ROTATION = int(input(\"Rotation Degree: \"))\n",
        "print(\"\\n\", \"\\n\")\n",
        "\n",
        "\n",
        "from pdf2image import convert_from_path\n",
        "pages = convert_from_path(FILENAME, first_page=FIRST_PAGE, last_page=LAST_PAGE)\n",
        "\n",
        "i = 0\n",
        "while(1):\n",
        "  try:\n",
        "    print(pytesseract.image_to_string(pages[i].rotate(ROTATION)))\n",
        "    i += 1\n",
        "  except IndexError:\n",
        "    break\n",
        "!rm -rf $FILENAME"
      ],
      "execution_count": 9,
      "outputs": [
        {
          "output_type": "stream",
          "text": [
            "URI Pathway: /content/Monterey_KingCityUnion_Year1.pdf\n",
            "First Page: 71\n",
            "Last Page: 71\n",
            "Rotation Degree: 0\n",
            "\n",
            " \n",
            "\n",
            "C.Describe the LEA’s increase in funds in the LCAP year calculated on the basis of the num ber and concentration of low incom e, foster youth,\n",
            "and English learner pupils as determ ined pursuant to 5 CCR 15496(a)(5). Describe how the LEA is expending these funds in the LCAP year.\n",
            "Include a description of, and justification for, the use of any funds in a districtw ide, schooW ide, countyw ide, or charterw ide m anner as specified\n",
            "in 5 CCR 15496. For schooldistricts w ith below 55 percent of enrolim ent of unduplicated pupils in the district or below 40 percent of\n",
            "\n",
            "enrolim ent of unduplicated pupils ata schoolsite in the LCAP year, when using supplem entaland concentration funds in a districtw ide or\n",
            "schoo ide manner, the schooldistrict m ust additionally describe how the services provided are the m ost effective use of funds to m eet the\n",
            "district’s goals for unduplicated pupils in the state priority areas. (See 5 CCR 15496(b) for guidance.)\n",
            "\n",
            "The King City Union SchoolD istrict receives its concentration and supplem entalgrant funding based on 91.02% of the district's enrolim ent\n",
            "meeting the eligibility qualifications. Under the LCFF, as these funds are provided on a district-w ide basis, not on site eligibility as the form er\n",
            "\n",
            "categoricalprogram s. The District is standardizing services on a district w ide basis across allschools to insure that allstudents have access\n",
            "to equivalent educationalservices, resources and support. These services include Intervention in core subject areas during and after school\n",
            "As wellas technology access and proficiency at alllevels.\n",
            "\n",
            " \n",
            "\n",
            "71\n",
            "\f\n"
          ],
          "name": "stdout"
        }
      ]
    }
  ]
}
